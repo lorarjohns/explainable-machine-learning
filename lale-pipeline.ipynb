{
 "cells": [
  {
   "cell_type": "code",
   "execution_count": 2,
   "metadata": {},
   "outputs": [],
   "source": [
    "from lale.lib.sklearn import (\n",
    "    PCA,\n",
    "    LogisticRegression,\n",
    "    KNeighborsClassifier as Kn,\n",
    "    DecisionTreeClassifier as tree,\n",
    "    SVC,\n",
    "    RandomForestClassifier as rf\n",
    "    )\n",
    "from lale.lib.xgboost import XGBClassifier as xgb\n",
    "\n",
    "from lale.lib.lale import NoOp, ConcatFeatures"
   ]
  },
  {
   "cell_type": "code",
   "execution_count": 3,
   "metadata": {},
   "outputs": [],
   "source": [
    "import lale\n",
    "import lale.helpers\n",
    "from lale.lib.lale import Hyperopt\n",
    "lale.wrap_imported_operators()"
   ]
  },
  {
   "cell_type": "code",
   "execution_count": 6,
   "metadata": {},
   "outputs": [],
   "source": [
    "# Choose a loss function to optimize \n",
    "import sklearn.metrics\n",
    "loss_function_options = sorted(sklearn.metrics.SCORERS.keys())"
   ]
  },
  {
   "cell_type": "code",
   "execution_count": 19,
   "metadata": {},
   "outputs": [],
   "source": [
    "encoded_df = pd.read_csv('encoded_df.csv')\n",
    "dependent_var = pd.read_csv('dependent_var')"
   ]
  },
  {
   "cell_type": "code",
   "execution_count": 21,
   "metadata": {},
   "outputs": [],
   "source": [
    "train_len = int(0.8*41188)\n",
    "train_x, train_y = encoded_df[:train_len], dependent_var[:train_len]\n",
    "test_x, test_y = encoded_df[train_len:], dependent_var[train_len:]"
   ]
  },
  {
   "cell_type": "code",
   "execution_count": 22,
   "metadata": {},
   "outputs": [
    {
     "output_type": "execute_result",
     "data": {
      "text/plain": "   Unnamed: 0  job  marital  ...  cons.conf.idx  euribor3m  nr.employed\n0           0    3        1  ...             16        287            8\n1           1    7        1  ...             16        287            8\n2           2    7        1  ...             16        287            8\n3           3    0        1  ...             16        287            8\n4           4    7        1  ...             16        287            8\n\n[5 rows x 16 columns]",
      "text/html": "<div>\n<style scoped>\n    .dataframe tbody tr th:only-of-type {\n        vertical-align: middle;\n    }\n\n    .dataframe tbody tr th {\n        vertical-align: top;\n    }\n\n    .dataframe thead th {\n        text-align: right;\n    }\n</style>\n<table border=\"1\" class=\"dataframe\">\n  <thead>\n    <tr style=\"text-align: right;\">\n      <th></th>\n      <th>Unnamed: 0</th>\n      <th>job</th>\n      <th>marital</th>\n      <th>education</th>\n      <th>contact</th>\n      <th>month</th>\n      <th>duration</th>\n      <th>campaign</th>\n      <th>pdays</th>\n      <th>previous</th>\n      <th>poutcome</th>\n      <th>emp.var.rate</th>\n      <th>cons.price.idx</th>\n      <th>cons.conf.idx</th>\n      <th>euribor3m</th>\n      <th>nr.employed</th>\n    </tr>\n  </thead>\n  <tbody>\n    <tr>\n      <th>0</th>\n      <td>0</td>\n      <td>3</td>\n      <td>1</td>\n      <td>0</td>\n      <td>1</td>\n      <td>6</td>\n      <td>261</td>\n      <td>0</td>\n      <td>26</td>\n      <td>0</td>\n      <td>1</td>\n      <td>8</td>\n      <td>18</td>\n      <td>16</td>\n      <td>287</td>\n      <td>8</td>\n    </tr>\n    <tr>\n      <th>1</th>\n      <td>1</td>\n      <td>7</td>\n      <td>1</td>\n      <td>3</td>\n      <td>1</td>\n      <td>6</td>\n      <td>149</td>\n      <td>0</td>\n      <td>26</td>\n      <td>0</td>\n      <td>1</td>\n      <td>8</td>\n      <td>18</td>\n      <td>16</td>\n      <td>287</td>\n      <td>8</td>\n    </tr>\n    <tr>\n      <th>2</th>\n      <td>2</td>\n      <td>7</td>\n      <td>1</td>\n      <td>3</td>\n      <td>1</td>\n      <td>6</td>\n      <td>226</td>\n      <td>0</td>\n      <td>26</td>\n      <td>0</td>\n      <td>1</td>\n      <td>8</td>\n      <td>18</td>\n      <td>16</td>\n      <td>287</td>\n      <td>8</td>\n    </tr>\n    <tr>\n      <th>3</th>\n      <td>3</td>\n      <td>0</td>\n      <td>1</td>\n      <td>1</td>\n      <td>1</td>\n      <td>6</td>\n      <td>151</td>\n      <td>0</td>\n      <td>26</td>\n      <td>0</td>\n      <td>1</td>\n      <td>8</td>\n      <td>18</td>\n      <td>16</td>\n      <td>287</td>\n      <td>8</td>\n    </tr>\n    <tr>\n      <th>4</th>\n      <td>4</td>\n      <td>7</td>\n      <td>1</td>\n      <td>3</td>\n      <td>1</td>\n      <td>6</td>\n      <td>307</td>\n      <td>0</td>\n      <td>26</td>\n      <td>0</td>\n      <td>1</td>\n      <td>8</td>\n      <td>18</td>\n      <td>16</td>\n      <td>287</td>\n      <td>8</td>\n    </tr>\n  </tbody>\n</table>\n</div>"
     },
     "metadata": {},
     "execution_count": 22
    }
   ],
   "source": [
    "train_x.head()"
   ]
  },
  {
   "cell_type": "code",
   "execution_count": 23,
   "metadata": {},
   "outputs": [],
   "source": [
    "explainable_pipe = lale.operators.make_union(PCA, NoOp) >> (LogisticRegression | Kn | tree)"
   ]
  },
  {
   "cell_type": "code",
   "execution_count": 24,
   "metadata": {},
   "outputs": [
    {
     "output_type": "display_data",
     "data": {
      "text/plain": "<graphviz.dot.Digraph at 0x7f7fa133cf10>",
      "image/svg+xml": "<?xml version=\"1.0\" encoding=\"UTF-8\" standalone=\"no\"?>\n<!DOCTYPE svg PUBLIC \"-//W3C//DTD SVG 1.1//EN\"\n \"http://www.w3.org/Graphics/SVG/1.1/DTD/svg11.dtd\">\n<!-- Generated by graphviz version 2.40.1 (20161225.0304)\n -->\n<!-- Title: cluster:(root) Pages: 1 -->\n<svg width=\"298pt\" height=\"189pt\"\n viewBox=\"0.00 0.00 298.49 189.00\" xmlns=\"http://www.w3.org/2000/svg\" xmlns:xlink=\"http://www.w3.org/1999/xlink\">\n<g id=\"graph0\" class=\"graph\" transform=\"scale(1 1) rotate(0) translate(4 185)\">\n<title>cluster:(root)</title>\n<g id=\"a_graph0\"><a xlink:title=\"(root) = ...\">\n<polygon fill=\"#ffffff\" stroke=\"transparent\" points=\"-4,4 -4,-185 294.4924,-185 294.4924,4 -4,4\"/>\n</a>\n</g>\n<g id=\"clust1\" class=\"cluster\">\n<title>cluster:choice</title>\n<g id=\"a_clust1\"><a xlink:title=\"choice = logistic_regression | kn | tree\">\n<polygon fill=\"#7ec0ee\" stroke=\"#000000\" points=\"184.468,-8 184.468,-173 282.4924,-173 282.4924,-8 184.468,-8\"/>\n<text text-anchor=\"middle\" x=\"233.4802\" y=\"-157.8\" font-family=\"Times,serif\" font-size=\"14.00\" fill=\"#000000\">Choice</text>\n</a>\n</g>\n</g>\n<!-- pca -->\n<g id=\"node1\" class=\"node\">\n<title>pca</title>\n<g id=\"a_node1\"><a xlink:href=\"https://lale.readthedocs.io/en/latest/modules/lale.lib.sklearn.pca.html\" xlink:title=\"pca = PCA\">\n<ellipse fill=\"#7ec0ee\" stroke=\"#000000\" cx=\"27\" cy=\"-145\" rx=\"27\" ry=\"18\"/>\n<text text-anchor=\"middle\" x=\"27\" y=\"-142.2\" font-family=\"Times,serif\" font-size=\"11.00\" fill=\"#000000\">PCA</text>\n</a>\n</g>\n</g>\n<!-- concat_features -->\n<g id=\"node3\" class=\"node\">\n<title>concat_features</title>\n<g id=\"a_node3\"><a xlink:href=\"https://lale.readthedocs.io/en/latest/modules/lale.lib.lale.concat_features.html\" xlink:title=\"concat_features = ConcatFeatures()\">\n<ellipse fill=\"#ffffff\" stroke=\"#000000\" cx=\"123.234\" cy=\"-122\" rx=\"33.4697\" ry=\"19.6\"/>\n<text text-anchor=\"middle\" x=\"123.234\" y=\"-125.2\" font-family=\"Times,serif\" font-size=\"11.00\" fill=\"#000000\">Concat&#45;</text>\n<text text-anchor=\"middle\" x=\"123.234\" y=\"-113.2\" font-family=\"Times,serif\" font-size=\"11.00\" fill=\"#000000\">Features</text>\n</a>\n</g>\n</g>\n<!-- pca&#45;&gt;concat_features -->\n<g id=\"edge1\" class=\"edge\">\n<title>pca&#45;&gt;concat_features</title>\n<path fill=\"none\" stroke=\"#000000\" d=\"M52.5363,-138.8968C61.6405,-136.7209 72.1395,-134.2116 82.2142,-131.8038\"/>\n<polygon fill=\"#000000\" stroke=\"#000000\" points=\"83.1675,-135.1746 92.0799,-129.4458 81.5402,-128.3663 83.1675,-135.1746\"/>\n</g>\n<!-- no_op -->\n<g id=\"node2\" class=\"node\">\n<title>no_op</title>\n<g id=\"a_node2\"><a xlink:href=\"https://lale.readthedocs.io/en/latest/modules/lale.lib.lale.no_op.html\" xlink:title=\"no_op = NoOp\">\n<ellipse fill=\"#ffffff\" stroke=\"#000000\" cx=\"27\" cy=\"-100\" rx=\"27\" ry=\"19.6\"/>\n<text text-anchor=\"middle\" x=\"27\" y=\"-103.2\" font-family=\"Times,serif\" font-size=\"11.00\" fill=\"#000000\">No&#45;</text>\n<text text-anchor=\"middle\" x=\"27\" y=\"-91.2\" font-family=\"Times,serif\" font-size=\"11.00\" fill=\"#000000\">Op</text>\n</a>\n</g>\n</g>\n<!-- no_op&#45;&gt;concat_features -->\n<g id=\"edge2\" class=\"edge\">\n<title>no_op&#45;&gt;concat_features</title>\n<path fill=\"none\" stroke=\"#000000\" d=\"M52.789,-105.8956C61.8083,-107.9575 72.1726,-110.3269 82.1277,-112.6027\"/>\n<polygon fill=\"#000000\" stroke=\"#000000\" points=\"81.353,-116.0158 91.8815,-114.8325 82.913,-109.1919 81.353,-116.0158\"/>\n</g>\n<!-- logistic_regression -->\n<g id=\"node4\" class=\"node\">\n<title>logistic_regression</title>\n<g id=\"a_node4\"><a xlink:href=\"https://lale.readthedocs.io/en/latest/modules/lale.lib.sklearn.logistic_regression.html\" xlink:title=\"logistic_regression = LogisticRegression\">\n<ellipse fill=\"#7ec0ee\" stroke=\"#000000\" cx=\"233.4802\" cy=\"-122\" rx=\"41.0244\" ry=\"19.6\"/>\n<text text-anchor=\"middle\" x=\"233.4802\" y=\"-125.2\" font-family=\"Times,serif\" font-size=\"11.00\" fill=\"#000000\">Logistic&#45;</text>\n<text text-anchor=\"middle\" x=\"233.4802\" y=\"-113.2\" font-family=\"Times,serif\" font-size=\"11.00\" fill=\"#000000\">Regression</text>\n</a>\n</g>\n</g>\n<!-- concat_features&#45;&gt;logistic_regression -->\n<g id=\"edge3\" class=\"edge\">\n<title>concat_features&#45;&gt;logistic_regression</title>\n<path fill=\"none\" stroke=\"#000000\" d=\"M156.6107,-122C164.7188,-122 173.5745,-122 182.2979,-122\"/>\n<polygon fill=\"#000000\" stroke=\"#000000\" points=\"174.4682,-125.5005 184.468,-122 174.4679,-118.5005 174.4682,-125.5005\"/>\n</g>\n<!-- kn -->\n<g id=\"node5\" class=\"node\">\n<title>kn</title>\n<g id=\"a_node5\"><a xlink:href=\"https://lale.readthedocs.io/en/latest/modules/lale.lib.sklearn.k_neighbors_classifier.html\" xlink:title=\"kn = Kn\">\n<ellipse fill=\"#7ec0ee\" stroke=\"#000000\" cx=\"233.4802\" cy=\"-77\" rx=\"27\" ry=\"18\"/>\n<text text-anchor=\"middle\" x=\"233.4802\" y=\"-74.2\" font-family=\"Times,serif\" font-size=\"11.00\" fill=\"#000000\">Kn</text>\n</a>\n</g>\n</g>\n<!-- tree -->\n<g id=\"node6\" class=\"node\">\n<title>tree</title>\n<g id=\"a_node6\"><a xlink:href=\"https://lale.readthedocs.io/en/latest/modules/lale.lib.sklearn.decision_tree_classifier.html\" xlink:title=\"tree = tree\">\n<ellipse fill=\"#7ec0ee\" stroke=\"#000000\" cx=\"233.4802\" cy=\"-34\" rx=\"27\" ry=\"18\"/>\n<text text-anchor=\"middle\" x=\"233.4802\" y=\"-31.2\" font-family=\"Times,serif\" font-size=\"11.00\" fill=\"#000000\">tree</text>\n</a>\n</g>\n</g>\n</g>\n</svg>\n"
     },
     "metadata": {}
    }
   ],
   "source": [
    "explainable_pipe.visualize()"
   ]
  },
  {
   "cell_type": "code",
   "execution_count": 17,
   "metadata": {},
   "outputs": [
    {
     "output_type": "stream",
     "name": "stdout",
     "text": "100%|██████████| 3/3 [00:00<00:00, 12.27trial/s, best loss=?]\n"
    },
    {
     "output_type": "error",
     "ename": "ValueError",
     "evalue": "Error from hyperopt, none of the trials succeeded.",
     "traceback": [
      "\u001b[0;31m---------------------------------------------------------------------------\u001b[0m",
      "\u001b[0;31mAllTrialsFailed\u001b[0m                           Traceback (most recent call last)",
      "\u001b[0;32m~/.pyenv/versions/ibm-explain/lib/python3.7/site-packages/lale/lib/lale/hyperopt.py\u001b[0m in \u001b[0;36mfit\u001b[0;34m(self, X_train, y_train)\u001b[0m\n\u001b[1;32m    151\u001b[0m             fmin(f, self.search_space, algo=tpe.suggest, max_evals=self.max_evals, trials=self._trials, rstate=np.random.RandomState(SEED),\n\u001b[0;32m--> 152\u001b[0;31m             show_progressbar=self.show_progressbar)\n\u001b[0m\u001b[1;32m    153\u001b[0m         \u001b[0;32mexcept\u001b[0m \u001b[0mSystemExit\u001b[0m \u001b[0;34m:\u001b[0m\u001b[0;34m\u001b[0m\u001b[0;34m\u001b[0m\u001b[0m\n",
      "\u001b[0;32m~/.pyenv/versions/ibm-explain/lib/python3.7/site-packages/hyperopt/fmin.py\u001b[0m in \u001b[0;36mfmin\u001b[0;34m(fn, space, algo, max_evals, timeout, loss_threshold, trials, rstate, allow_trials_fmin, pass_expr_memo_ctrl, catch_eval_exceptions, verbose, return_argmin, points_to_evaluate, max_queue_len, show_progressbar)\u001b[0m\n\u001b[1;32m    481\u001b[0m             \u001b[0mreturn_argmin\u001b[0m\u001b[0;34m=\u001b[0m\u001b[0mreturn_argmin\u001b[0m\u001b[0;34m,\u001b[0m\u001b[0;34m\u001b[0m\u001b[0;34m\u001b[0m\u001b[0m\n\u001b[0;32m--> 482\u001b[0;31m             \u001b[0mshow_progressbar\u001b[0m\u001b[0;34m=\u001b[0m\u001b[0mshow_progressbar\u001b[0m\u001b[0;34m,\u001b[0m\u001b[0;34m\u001b[0m\u001b[0;34m\u001b[0m\u001b[0m\n\u001b[0m\u001b[1;32m    483\u001b[0m         )\n",
      "\u001b[0;32m~/.pyenv/versions/ibm-explain/lib/python3.7/site-packages/hyperopt/base.py\u001b[0m in \u001b[0;36mfmin\u001b[0;34m(self, fn, space, algo, max_evals, timeout, loss_threshold, max_queue_len, rstate, verbose, pass_expr_memo_ctrl, catch_eval_exceptions, return_argmin, show_progressbar)\u001b[0m\n\u001b[1;32m    685\u001b[0m             \u001b[0mreturn_argmin\u001b[0m\u001b[0;34m=\u001b[0m\u001b[0mreturn_argmin\u001b[0m\u001b[0;34m,\u001b[0m\u001b[0;34m\u001b[0m\u001b[0;34m\u001b[0m\u001b[0m\n\u001b[0;32m--> 686\u001b[0;31m             \u001b[0mshow_progressbar\u001b[0m\u001b[0;34m=\u001b[0m\u001b[0mshow_progressbar\u001b[0m\u001b[0;34m,\u001b[0m\u001b[0;34m\u001b[0m\u001b[0;34m\u001b[0m\u001b[0m\n\u001b[0m\u001b[1;32m    687\u001b[0m         )\n",
      "\u001b[0;32m~/.pyenv/versions/ibm-explain/lib/python3.7/site-packages/hyperopt/fmin.py\u001b[0m in \u001b[0;36mfmin\u001b[0;34m(fn, space, algo, max_evals, timeout, loss_threshold, trials, rstate, allow_trials_fmin, pass_expr_memo_ctrl, catch_eval_exceptions, verbose, return_argmin, points_to_evaluate, max_queue_len, show_progressbar)\u001b[0m\n\u001b[1;32m    515\u001b[0m             )\n\u001b[0;32m--> 516\u001b[0;31m         \u001b[0;32mreturn\u001b[0m \u001b[0mtrials\u001b[0m\u001b[0;34m.\u001b[0m\u001b[0margmin\u001b[0m\u001b[0;34m\u001b[0m\u001b[0;34m\u001b[0m\u001b[0m\n\u001b[0m\u001b[1;32m    517\u001b[0m     \u001b[0;32melif\u001b[0m \u001b[0mlen\u001b[0m\u001b[0;34m(\u001b[0m\u001b[0mtrials\u001b[0m\u001b[0;34m)\u001b[0m \u001b[0;34m>\u001b[0m \u001b[0;36m0\u001b[0m\u001b[0;34m:\u001b[0m\u001b[0;34m\u001b[0m\u001b[0;34m\u001b[0m\u001b[0m\n",
      "\u001b[0;32m~/.pyenv/versions/ibm-explain/lib/python3.7/site-packages/hyperopt/base.py\u001b[0m in \u001b[0;36margmin\u001b[0;34m(self)\u001b[0m\n\u001b[1;32m    621\u001b[0m     \u001b[0;32mdef\u001b[0m \u001b[0margmin\u001b[0m\u001b[0;34m(\u001b[0m\u001b[0mself\u001b[0m\u001b[0;34m)\u001b[0m\u001b[0;34m:\u001b[0m\u001b[0;34m\u001b[0m\u001b[0;34m\u001b[0m\u001b[0m\n\u001b[0;32m--> 622\u001b[0;31m         \u001b[0mbest_trial\u001b[0m \u001b[0;34m=\u001b[0m \u001b[0mself\u001b[0m\u001b[0;34m.\u001b[0m\u001b[0mbest_trial\u001b[0m\u001b[0;34m\u001b[0m\u001b[0;34m\u001b[0m\u001b[0m\n\u001b[0m\u001b[1;32m    623\u001b[0m         \u001b[0mvals\u001b[0m \u001b[0;34m=\u001b[0m \u001b[0mbest_trial\u001b[0m\u001b[0;34m[\u001b[0m\u001b[0;34m\"misc\"\u001b[0m\u001b[0;34m]\u001b[0m\u001b[0;34m[\u001b[0m\u001b[0;34m\"vals\"\u001b[0m\u001b[0;34m]\u001b[0m\u001b[0;34m\u001b[0m\u001b[0;34m\u001b[0m\u001b[0m\n",
      "\u001b[0;32m~/.pyenv/versions/ibm-explain/lib/python3.7/site-packages/hyperopt/base.py\u001b[0m in \u001b[0;36mbest_trial\u001b[0;34m(self)\u001b[0m\n\u001b[1;32m    612\u001b[0m         \u001b[0;32mif\u001b[0m \u001b[0;32mnot\u001b[0m \u001b[0mcandidates\u001b[0m\u001b[0;34m:\u001b[0m\u001b[0;34m\u001b[0m\u001b[0;34m\u001b[0m\u001b[0m\n\u001b[0;32m--> 613\u001b[0;31m             \u001b[0;32mraise\u001b[0m \u001b[0mAllTrialsFailed\u001b[0m\u001b[0;34m\u001b[0m\u001b[0;34m\u001b[0m\u001b[0m\n\u001b[0m\u001b[1;32m    614\u001b[0m         \u001b[0mlosses\u001b[0m \u001b[0;34m=\u001b[0m \u001b[0;34m[\u001b[0m\u001b[0mfloat\u001b[0m\u001b[0;34m(\u001b[0m\u001b[0mt\u001b[0m\u001b[0;34m[\u001b[0m\u001b[0;34m\"result\"\u001b[0m\u001b[0;34m]\u001b[0m\u001b[0;34m[\u001b[0m\u001b[0;34m\"loss\"\u001b[0m\u001b[0;34m]\u001b[0m\u001b[0;34m)\u001b[0m \u001b[0;32mfor\u001b[0m \u001b[0mt\u001b[0m \u001b[0;32min\u001b[0m \u001b[0mcandidates\u001b[0m\u001b[0;34m]\u001b[0m\u001b[0;34m\u001b[0m\u001b[0;34m\u001b[0m\u001b[0m\n",
      "\u001b[0;31mAllTrialsFailed\u001b[0m: ",
      "\nDuring handling of the above exception, another exception occurred:\n",
      "\u001b[0;31mValueError\u001b[0m                                Traceback (most recent call last)",
      "\u001b[0;32m<ipython-input-17-54e091acb915>\u001b[0m in \u001b[0;36m<module>\u001b[0;34m\u001b[0m\n\u001b[1;32m      1\u001b[0m explainable_train = explainable_pipe.auto_configure(train_x, train_y, optimizer=Hyperopt, cv=3,\n\u001b[0;32m----> 2\u001b[0;31m                                                     max_evals=3, scoring='accuracy')\n\u001b[0m",
      "\u001b[0;32m~/.pyenv/versions/ibm-explain/lib/python3.7/site-packages/lale/operators.py\u001b[0m in \u001b[0;36mauto_configure\u001b[0;34m(self, X, y, optimizer, cv, scoring, **kwargs)\u001b[0m\n\u001b[1;32m    241\u001b[0m             \u001b[0mkwargs\u001b[0m\u001b[0;34m[\u001b[0m\u001b[0;34m'scoring'\u001b[0m\u001b[0;34m]\u001b[0m \u001b[0;34m=\u001b[0m \u001b[0mscoring\u001b[0m\u001b[0;34m\u001b[0m\u001b[0;34m\u001b[0m\u001b[0m\n\u001b[1;32m    242\u001b[0m         \u001b[0moptimizer_obj\u001b[0m \u001b[0;34m=\u001b[0m \u001b[0moptimizer\u001b[0m\u001b[0;34m(\u001b[0m\u001b[0mestimator\u001b[0m\u001b[0;34m=\u001b[0m\u001b[0mself\u001b[0m\u001b[0;34m,\u001b[0m \u001b[0;34m**\u001b[0m\u001b[0mkwargs\u001b[0m\u001b[0;34m)\u001b[0m\u001b[0;34m\u001b[0m\u001b[0;34m\u001b[0m\u001b[0m\n\u001b[0;32m--> 243\u001b[0;31m         \u001b[0mtrained\u001b[0m \u001b[0;34m=\u001b[0m \u001b[0moptimizer_obj\u001b[0m\u001b[0;34m.\u001b[0m\u001b[0mfit\u001b[0m\u001b[0;34m(\u001b[0m\u001b[0mX\u001b[0m\u001b[0;34m,\u001b[0m \u001b[0my\u001b[0m\u001b[0;34m)\u001b[0m\u001b[0;34m\u001b[0m\u001b[0;34m\u001b[0m\u001b[0m\n\u001b[0m\u001b[1;32m    244\u001b[0m         \u001b[0;32mreturn\u001b[0m \u001b[0mtrained\u001b[0m\u001b[0;34m.\u001b[0m\u001b[0mget_pipeline\u001b[0m\u001b[0;34m(\u001b[0m\u001b[0;34m)\u001b[0m\u001b[0;34m\u001b[0m\u001b[0;34m\u001b[0m\u001b[0m\n\u001b[1;32m    245\u001b[0m \u001b[0;34m\u001b[0m\u001b[0m\n",
      "\u001b[0;32m~/.pyenv/versions/ibm-explain/lib/python3.7/site-packages/lale/operators.py\u001b[0m in \u001b[0;36mfit\u001b[0;34m(self, X, y, **fit_params)\u001b[0m\n\u001b[1;32m   1043\u001b[0m             \u001b[0mtrained_impl\u001b[0m \u001b[0;34m=\u001b[0m \u001b[0mtrainable_impl\u001b[0m\u001b[0;34m.\u001b[0m\u001b[0mfit\u001b[0m\u001b[0;34m(\u001b[0m\u001b[0mX\u001b[0m\u001b[0;34m,\u001b[0m \u001b[0my\u001b[0m\u001b[0;34m)\u001b[0m\u001b[0;34m\u001b[0m\u001b[0;34m\u001b[0m\u001b[0m\n\u001b[1;32m   1044\u001b[0m         \u001b[0;32melse\u001b[0m\u001b[0;34m:\u001b[0m\u001b[0;34m\u001b[0m\u001b[0;34m\u001b[0m\u001b[0m\n\u001b[0;32m-> 1045\u001b[0;31m             \u001b[0mtrained_impl\u001b[0m \u001b[0;34m=\u001b[0m \u001b[0mtrainable_impl\u001b[0m\u001b[0;34m.\u001b[0m\u001b[0mfit\u001b[0m\u001b[0;34m(\u001b[0m\u001b[0mX\u001b[0m\u001b[0;34m,\u001b[0m \u001b[0my\u001b[0m\u001b[0;34m,\u001b[0m \u001b[0;34m**\u001b[0m\u001b[0mfiltered_fit_params\u001b[0m\u001b[0;34m)\u001b[0m\u001b[0;34m\u001b[0m\u001b[0;34m\u001b[0m\u001b[0m\n\u001b[0m\u001b[1;32m   1046\u001b[0m         \u001b[0mresult\u001b[0m \u001b[0;34m=\u001b[0m \u001b[0mTrainedIndividualOp\u001b[0m\u001b[0;34m(\u001b[0m\u001b[0mself\u001b[0m\u001b[0;34m.\u001b[0m\u001b[0mname\u001b[0m\u001b[0;34m(\u001b[0m\u001b[0;34m)\u001b[0m\u001b[0;34m,\u001b[0m \u001b[0mtrained_impl\u001b[0m\u001b[0;34m,\u001b[0m \u001b[0mself\u001b[0m\u001b[0;34m.\u001b[0m\u001b[0m_schemas\u001b[0m\u001b[0;34m)\u001b[0m\u001b[0;34m\u001b[0m\u001b[0;34m\u001b[0m\u001b[0m\n\u001b[1;32m   1047\u001b[0m         \u001b[0mresult\u001b[0m\u001b[0;34m.\u001b[0m\u001b[0m_hyperparams\u001b[0m \u001b[0;34m=\u001b[0m \u001b[0mself\u001b[0m\u001b[0;34m.\u001b[0m\u001b[0m_hyperparams\u001b[0m\u001b[0;34m\u001b[0m\u001b[0;34m\u001b[0m\u001b[0m\n",
      "\u001b[0;32m~/.pyenv/versions/ibm-explain/lib/python3.7/site-packages/lale/lib/lale/hyperopt.py\u001b[0m in \u001b[0;36mfit\u001b[0;34m(self, X_train, y_train)\u001b[0m\n\u001b[1;32m    156\u001b[0m             \u001b[0mself\u001b[0m\u001b[0;34m.\u001b[0m\u001b[0m_best_estimator\u001b[0m \u001b[0;34m=\u001b[0m \u001b[0;32mNone\u001b[0m\u001b[0;34m\u001b[0m\u001b[0;34m\u001b[0m\u001b[0m\n\u001b[1;32m    157\u001b[0m             \u001b[0;32mif\u001b[0m \u001b[0mSTATUS_OK\u001b[0m \u001b[0;32mnot\u001b[0m \u001b[0;32min\u001b[0m \u001b[0mself\u001b[0m\u001b[0;34m.\u001b[0m\u001b[0m_trials\u001b[0m\u001b[0;34m.\u001b[0m\u001b[0mstatuses\u001b[0m\u001b[0;34m(\u001b[0m\u001b[0;34m)\u001b[0m\u001b[0;34m:\u001b[0m\u001b[0;34m\u001b[0m\u001b[0;34m\u001b[0m\u001b[0m\n\u001b[0;32m--> 158\u001b[0;31m                 \u001b[0;32mraise\u001b[0m \u001b[0mValueError\u001b[0m\u001b[0;34m(\u001b[0m\u001b[0;34m'Error from hyperopt, none of the trials succeeded.'\u001b[0m\u001b[0;34m)\u001b[0m\u001b[0;34m\u001b[0m\u001b[0;34m\u001b[0m\u001b[0m\n\u001b[0m\u001b[1;32m    159\u001b[0m \u001b[0;34m\u001b[0m\u001b[0m\n\u001b[1;32m    160\u001b[0m         \u001b[0;32mtry\u001b[0m \u001b[0;34m:\u001b[0m\u001b[0;34m\u001b[0m\u001b[0;34m\u001b[0m\u001b[0m\n",
      "\u001b[0;31mValueError\u001b[0m: Error from hyperopt, none of the trials succeeded."
     ]
    }
   ],
   "source": [
    "explainable_train = explainable_pipe.auto_configure(train_x, train_y, optimizer=Hyperopt, cv=3,\n",
    "                                                    max_evals=3, scoring='accuracy')"
   ]
  },
  {
   "cell_type": "code",
   "execution_count": null,
   "metadata": {},
   "outputs": [],
   "source": []
  }
 ],
 "metadata": {
  "language_info": {
   "codemirror_mode": {
    "name": "ipython",
    "version": 3
   },
   "file_extension": ".py",
   "mimetype": "text/x-python",
   "name": "python",
   "nbconvert_exporter": "python",
   "pygments_lexer": "ipython3",
   "version": "3.7.4-final"
  },
  "orig_nbformat": 2,
  "kernelspec": {
   "name": "python37464bitibmexplainvenvbce7e887cc954540aacd0f3e69c1f77b",
   "display_name": "Python 3.7.4 64-bit ('ibm-explain': venv)"
  }
 },
 "nbformat": 4,
 "nbformat_minor": 2
}