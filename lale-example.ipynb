{
 "cells": [
  {
   "cell_type": "code",
   "execution_count": 1,
   "metadata": {},
   "outputs": [],
   "source": [
    "import pandas as pd \n",
    "import sklearn as sk \n",
    "import lale "
   ]
  },
  {
   "cell_type": "code",
   "execution_count": 2,
   "metadata": {},
   "outputs": [
    {
     "output_type": "stream",
     "name": "stderr",
     "text": "Downloading Cal. housing from https://ndownloader.figshare.com/files/5976036 to /home/ray/scikit_learn_data\n"
    }
   ],
   "source": [
    "cal_housing = sk.datasets.fetch_california_housing()\n",
    "x = pd.DataFrame(cal_housing.data, columns=cal_housing.feature_names)\n",
    "y = cal_housing.target"
   ]
  },
  {
   "cell_type": "code",
   "execution_count": 4,
   "metadata": {},
   "outputs": [
    {
     "output_type": "execute_result",
     "data": {
      "text/plain": "   MedInc  HouseAge  AveRooms  AveBedrms  Population  AveOccup  Latitude  \\\n0  8.3252      41.0  6.984127   1.023810       322.0  2.555556     37.88   \n1  8.3014      21.0  6.238137   0.971880      2401.0  2.109842     37.86   \n2  7.2574      52.0  8.288136   1.073446       496.0  2.802260     37.85   \n3  5.6431      52.0  5.817352   1.073059       558.0  2.547945     37.85   \n4  3.8462      52.0  6.281853   1.081081       565.0  2.181467     37.85   \n\n   Longitude      0  \n0    -122.23  4.526  \n1    -122.22  3.585  \n2    -122.24  3.521  \n3    -122.25  3.413  \n4    -122.25  3.422  ",
      "text/html": "<div>\n<style scoped>\n    .dataframe tbody tr th:only-of-type {\n        vertical-align: middle;\n    }\n\n    .dataframe tbody tr th {\n        vertical-align: top;\n    }\n\n    .dataframe thead th {\n        text-align: right;\n    }\n</style>\n<table border=\"1\" class=\"dataframe\">\n  <thead>\n    <tr style=\"text-align: right;\">\n      <th></th>\n      <th>MedInc</th>\n      <th>HouseAge</th>\n      <th>AveRooms</th>\n      <th>AveBedrms</th>\n      <th>Population</th>\n      <th>AveOccup</th>\n      <th>Latitude</th>\n      <th>Longitude</th>\n      <th>0</th>\n    </tr>\n  </thead>\n  <tbody>\n    <tr>\n      <th>0</th>\n      <td>8.3252</td>\n      <td>41.0</td>\n      <td>6.984127</td>\n      <td>1.023810</td>\n      <td>322.0</td>\n      <td>2.555556</td>\n      <td>37.88</td>\n      <td>-122.23</td>\n      <td>4.526</td>\n    </tr>\n    <tr>\n      <th>1</th>\n      <td>8.3014</td>\n      <td>21.0</td>\n      <td>6.238137</td>\n      <td>0.971880</td>\n      <td>2401.0</td>\n      <td>2.109842</td>\n      <td>37.86</td>\n      <td>-122.22</td>\n      <td>3.585</td>\n    </tr>\n    <tr>\n      <th>2</th>\n      <td>7.2574</td>\n      <td>52.0</td>\n      <td>8.288136</td>\n      <td>1.073446</td>\n      <td>496.0</td>\n      <td>2.802260</td>\n      <td>37.85</td>\n      <td>-122.24</td>\n      <td>3.521</td>\n    </tr>\n    <tr>\n      <th>3</th>\n      <td>5.6431</td>\n      <td>52.0</td>\n      <td>5.817352</td>\n      <td>1.073059</td>\n      <td>558.0</td>\n      <td>2.547945</td>\n      <td>37.85</td>\n      <td>-122.25</td>\n      <td>3.413</td>\n    </tr>\n    <tr>\n      <th>4</th>\n      <td>3.8462</td>\n      <td>52.0</td>\n      <td>6.281853</td>\n      <td>1.081081</td>\n      <td>565.0</td>\n      <td>2.181467</td>\n      <td>37.85</td>\n      <td>-122.25</td>\n      <td>3.422</td>\n    </tr>\n  </tbody>\n</table>\n</div>"
     },
     "metadata": {},
     "execution_count": 4
    }
   ],
   "source": [
    "pd.concat([x.head(), pd.DataFrame(y).head()], axis=1)"
   ]
  },
  {
   "cell_type": "markdown",
   "metadata": {},
   "source": [
    "To make this explainable, let's write down our intuition:\n",
    "The reason we use principal component analysis is to reduce the dimensionality of the data. We reduce the dimensionality to compact the variance from the input data into as few dimensions as possible, because the curse of dimensionality would doom attempts to model the data otherwise. \n",
    "We use a decision tree regressor because we want to understand the impact that the independent variables in the inputs have on dependent variables. We assume there are independent and dependent variables. We use regression because the dependent variable is continuous."
   ]
  },
  {
   "cell_type": "code",
   "execution_count": 13,
   "metadata": {},
   "outputs": [],
   "source": [
    "from sklearn.preprocessing import Normalizer\n",
    "from sklearn.tree import DecisionTreeRegressor as Tree \n",
    "from lale.lib.lale import Hyperopt\n",
    "import lale.helpers\n",
    "lale.wrap_imported_operators()\n"
   ]
  },
  {
   "cell_type": "code",
   "execution_count": 14,
   "metadata": {},
   "outputs": [],
   "source": [
    "tree_plan = Normalizer >> Tree"
   ]
  },
  {
   "cell_type": "code",
   "execution_count": 15,
   "metadata": {},
   "outputs": [
    {
     "output_type": "display_data",
     "data": {
      "text/plain": "<graphviz.dot.Digraph at 0x7fd55dd19550>",
      "image/svg+xml": "<?xml version=\"1.0\" encoding=\"UTF-8\" standalone=\"no\"?>\n<!DOCTYPE svg PUBLIC \"-//W3C//DTD SVG 1.1//EN\"\n \"http://www.w3.org/Graphics/SVG/1.1/DTD/svg11.dtd\">\n<!-- Generated by graphviz version 2.40.1 (20161225.0304)\n -->\n<!-- Title: cluster:(root) Pages: 1 -->\n<svg width=\"165pt\" height=\"44pt\"\n viewBox=\"0.00 0.00 164.98 44.00\" xmlns=\"http://www.w3.org/2000/svg\" xmlns:xlink=\"http://www.w3.org/1999/xlink\">\n<g id=\"graph0\" class=\"graph\" transform=\"scale(1 1) rotate(0) translate(4 40)\">\n<title>cluster:(root)</title>\n<g id=\"a_graph0\"><a xlink:title=\"(root) = ...\">\n<polygon fill=\"#ffffff\" stroke=\"transparent\" points=\"-4,4 -4,-40 160.9788,-40 160.9788,4 -4,4\"/>\n</a>\n</g>\n<!-- normalizer -->\n<g id=\"node1\" class=\"node\">\n<title>normalizer</title>\n<g id=\"a_node1\"><a xlink:href=\"https://lale.readthedocs.io/en/latest/modules/lale.lib.sklearn.normalizer.html\" xlink:title=\"normalizer = Normalizer\">\n<ellipse fill=\"#7ec0ee\" stroke=\"#000000\" cx=\"33.4894\" cy=\"-18\" rx=\"33.4788\" ry=\"18\"/>\n<text text-anchor=\"middle\" x=\"33.4894\" y=\"-15.2\" font-family=\"Times,serif\" font-size=\"11.00\" fill=\"#000000\">Normalizer</text>\n</a>\n</g>\n</g>\n<!-- tree -->\n<g id=\"node2\" class=\"node\">\n<title>tree</title>\n<g id=\"a_node2\"><a xlink:href=\"https://lale.readthedocs.io/en/latest/modules/lale.lib.sklearn.decision_tree_regressor.html\" xlink:title=\"tree = Tree\">\n<ellipse fill=\"#7ec0ee\" stroke=\"#000000\" cx=\"129.9788\" cy=\"-18\" rx=\"27\" ry=\"18\"/>\n<text text-anchor=\"middle\" x=\"129.9788\" y=\"-15.2\" font-family=\"Times,serif\" font-size=\"11.00\" fill=\"#000000\">Tree</text>\n</a>\n</g>\n</g>\n<!-- normalizer&#45;&gt;tree -->\n<g id=\"edge1\" class=\"edge\">\n<title>normalizer&#45;&gt;tree</title>\n<path fill=\"none\" stroke=\"#000000\" d=\"M67.2367,-18C75.4139,-18 84.2038,-18 92.5399,-18\"/>\n<polygon fill=\"#000000\" stroke=\"#000000\" points=\"92.776,-21.5001 102.776,-18 92.776,-14.5001 92.776,-21.5001\"/>\n</g>\n</g>\n</svg>\n"
     },
     "metadata": {}
    }
   ],
   "source": [
    "tree_plan.visualize()"
   ]
  },
  {
   "cell_type": "code",
   "execution_count": 17,
   "metadata": {},
   "outputs": [
    {
     "output_type": "stream",
     "name": "stdout",
     "text": "100%|██████████| 10/10 [00:31<00:00,  3.17s/trial, best loss: -0.5329179400023036]\n"
    }
   ],
   "source": [
    "from sklearn.model_selection import train_test_split\n",
    "train_x, test_x, train_y, test_y = train_test_split(x, y, test_size=.2, random_state=0)\n",
    "tree_trained = tree_plan.auto_configure(train_x, train_y, optimizer=Hyperopt, cv=3, max_evals= 10, scoring='r2')"
   ]
  },
  {
   "cell_type": "code",
   "execution_count": 18,
   "metadata": {},
   "outputs": [
    {
     "output_type": "display_data",
     "data": {
      "text/plain": "<IPython.core.display.Markdown object>",
      "text/markdown": "```python\nnormalizer = Normalizer(norm='max')\ntree = Tree(criterion='mae', min_samples_leaf=3, min_samples_split=19, splitter='random')\npipeline = normalizer >> tree\n```"
     },
     "metadata": {}
    }
   ],
   "source": [
    "# visualize the hyperparameters\n",
    "tree_trained.pretty_print(ipython_display=True, show_imports=False)"
   ]
  },
  {
   "cell_type": "code",
   "execution_count": 19,
   "metadata": {},
   "outputs": [
    {
     "output_type": "display_data",
     "data": {
      "text/plain": "<graphviz.dot.Digraph at 0x7fd55df2bd10>",
      "image/svg+xml": "<?xml version=\"1.0\" encoding=\"UTF-8\" standalone=\"no\"?>\n<!DOCTYPE svg PUBLIC \"-//W3C//DTD SVG 1.1//EN\"\n \"http://www.w3.org/Graphics/SVG/1.1/DTD/svg11.dtd\">\n<!-- Generated by graphviz version 2.40.1 (20161225.0304)\n -->\n<!-- Title: cluster:(root) Pages: 1 -->\n<svg width=\"165pt\" height=\"44pt\"\n viewBox=\"0.00 0.00 164.98 44.00\" xmlns=\"http://www.w3.org/2000/svg\" xmlns:xlink=\"http://www.w3.org/1999/xlink\">\n<g id=\"graph0\" class=\"graph\" transform=\"scale(1 1) rotate(0) translate(4 40)\">\n<title>cluster:(root)</title>\n<g id=\"a_graph0\"><a xlink:title=\"(root) = ...\">\n<polygon fill=\"#ffffff\" stroke=\"transparent\" points=\"-4,4 -4,-40 160.9788,-40 160.9788,4 -4,4\"/>\n</a>\n</g>\n<!-- normalizer -->\n<g id=\"node1\" class=\"node\">\n<title>normalizer</title>\n<g id=\"a_node1\"><a xlink:href=\"https://lale.readthedocs.io/en/latest/modules/lale.lib.sklearn.normalizer.html\" xlink:title=\"normalizer = Normalizer(norm=&#39;max&#39;)\">\n<ellipse fill=\"#ffffff\" stroke=\"#000000\" cx=\"33.4894\" cy=\"-18\" rx=\"33.4788\" ry=\"18\"/>\n<text text-anchor=\"middle\" x=\"33.4894\" y=\"-15.2\" font-family=\"Times,serif\" font-size=\"11.00\" fill=\"#000000\">Normalizer</text>\n</a>\n</g>\n</g>\n<!-- tree -->\n<g id=\"node2\" class=\"node\">\n<title>tree</title>\n<g id=\"a_node2\"><a xlink:href=\"https://lale.readthedocs.io/en/latest/modules/lale.lib.sklearn.decision_tree_regressor.html\" xlink:title=\"tree = Tree(criterion=&#39;mae&#39;, min_samples_leaf=3, min_samples_split=19, splitter=&#39;random&#39;)\">\n<ellipse fill=\"#ffffff\" stroke=\"#000000\" cx=\"129.9788\" cy=\"-18\" rx=\"27\" ry=\"18\"/>\n<text text-anchor=\"middle\" x=\"129.9788\" y=\"-15.2\" font-family=\"Times,serif\" font-size=\"11.00\" fill=\"#000000\">Tree</text>\n</a>\n</g>\n</g>\n<!-- normalizer&#45;&gt;tree -->\n<g id=\"edge1\" class=\"edge\">\n<title>normalizer&#45;&gt;tree</title>\n<path fill=\"none\" stroke=\"#000000\" d=\"M67.2367,-18C75.4139,-18 84.2038,-18 92.5399,-18\"/>\n<polygon fill=\"#000000\" stroke=\"#000000\" points=\"92.776,-21.5001 102.776,-18 92.776,-14.5001 92.776,-21.5001\"/>\n</g>\n</g>\n</svg>\n"
     },
     "metadata": {}
    }
   ],
   "source": [
    "tree_trained.visualize()"
   ]
  },
  {
   "cell_type": "code",
   "execution_count": 24,
   "metadata": {},
   "outputs": [
    {
     "output_type": "stream",
     "name": "stdout",
     "text": "R2 score is 0.51\n"
    }
   ],
   "source": [
    "from sklearn.metrics import r2_score as r2\n",
    "predicted = tree_trained.predict(test_x)\n",
    "print(f'R2 score is {r2(test_y, predicted):.2f}')"
   ]
  },
  {
   "cell_type": "code",
   "execution_count": null,
   "metadata": {},
   "outputs": [],
   "source": []
  }
 ],
 "metadata": {
  "language_info": {
   "codemirror_mode": {
    "name": "ipython",
    "version": 3
   },
   "file_extension": ".py",
   "mimetype": "text/x-python",
   "name": "python",
   "nbconvert_exporter": "python",
   "pygments_lexer": "ipython3",
   "version": "3.7.4-final"
  },
  "orig_nbformat": 2,
  "kernelspec": {
   "name": "python37464bitibmexplainvenvbce7e887cc954540aacd0f3e69c1f77b",
   "display_name": "Python 3.7.4 64-bit ('ibm-explain': venv)"
  }
 },
 "nbformat": 4,
 "nbformat_minor": 2
}